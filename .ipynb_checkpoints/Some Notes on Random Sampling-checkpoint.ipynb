{
 "cells": [
  {
   "cell_type": "markdown",
   "metadata": {},
   "source": [
    "## Im just copying a smal script done in the console. \n",
    "### Still needed:\n",
    "1. I need to finish a function with replacement to select 3 trees for each plot\n",
    "2. I need to use raw sql to perform either a real buffer (in meters) or a convertion to distance to grads."
   ]
  },
  {
   "cell_type": "code",
   "execution_count": null,
   "metadata": {
    "collapsed": true
   },
   "outputs": [],
   "source": [
    "from external_plugins.DjangoFIA.models import USGrid100km\n",
    "gs = USGrid100km.objects.all()[10]\n",
    "gs\n",
    "gs.geom\n",
    "from external_plugins.DjangoFIA.sampling_scenarios import ObtainRandomUniformCellSampling\n",
    "cs = ObtainRandomUniformCellSampling(USGrid100km,100)\n",
    "cs\n",
    "from external_plugins.DjangoFIA.models import TreesPerYear\n",
    "cs[0]\n",
    "c = cs[0]\n",
    "c.geom\n",
    "TreesPerYear.objects.filter(geom__intersects=c.geom)\n",
    "trees_sample = map(lambda c : TreesPerYear.objects.filter(geom__intersects=c.geom),cs)\n",
    "trees_sample\n",
    "nsamp = filter(lambda sample : sample , trees_sample)\n",
    "nsamp = filter(lambda sample : sample!=[] , trees_sample)\n",
    "nsamp\n",
    "nsamp = filter(lambda sample : sample.count() != 0 , trees_sample)"
   ]
  }
 ],
 "metadata": {
  "kernelspec": {
   "display_name": "Django Shell-Plus",
   "language": "python",
   "name": "django_extensions"
  },
  "language_info": {
   "codemirror_mode": {
    "name": "ipython",
    "version": 2
   },
   "file_extension": ".py",
   "mimetype": "text/x-python",
   "name": "python",
   "nbconvert_exporter": "python",
   "pygments_lexer": "ipython2",
   "version": "2.7.11"
  }
 },
 "nbformat": 4,
 "nbformat_minor": 0
}
